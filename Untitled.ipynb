{
 "cells": [
  {
   "cell_type": "code",
   "execution_count": 1,
   "id": "85514f54",
   "metadata": {},
   "outputs": [
    {
     "name": "stdout",
     "output_type": "stream",
     "text": [
      "Conversion complete. JSON file saved at: new_dataset.json\n"
     ]
    }
   ],
   "source": [
    "import csv\n",
    "import json\n",
    "\n",
    "csv_file_path = 'Tableau_dataset.csv'\n",
    "json_file_path = 'new_dataset.json'\n",
    "\n",
    "# Read CSV file and convert to JSON\n",
    "data = {\"name\": \"Variety TreeMap\", \"children\": []}\n",
    "\n",
    "with open(csv_file_path, 'r') as csv_file:\n",
    "    csv_reader = csv.DictReader(csv_file)\n",
    "\n",
    "    variety_counts = {}  # Dictionary to store variety counts\n",
    "\n",
    "    for row in csv_reader:\n",
    "        variety = row['variety']\n",
    "\n",
    "        # If the variety is not in the dictionary, add it with a count of 1\n",
    "        if variety not in variety_counts:\n",
    "            variety_counts[variety] = 1\n",
    "        else:\n",
    "            # If the variety is already in the dictionary, increment the count\n",
    "            variety_counts[variety] += 1\n",
    "\n",
    "    # Convert variety counts dictionary to the required JSON format\n",
    "    for variety, count in variety_counts.items():\n",
    "        data[\"children\"].append({\n",
    "            \"name\": variety,\n",
    "            \"value\": count\n",
    "        })\n",
    "\n",
    "# Write JSON file\n",
    "with open(json_file_path, 'w') as json_file:\n",
    "    json.dump(data, json_file, indent=2)\n",
    "\n",
    "print(f'Conversion complete. JSON file saved at: {json_file_path}')\n"
   ]
  },
  {
   "cell_type": "code",
   "execution_count": null,
   "id": "9713d430",
   "metadata": {},
   "outputs": [],
   "source": []
  }
 ],
 "metadata": {
  "kernelspec": {
   "display_name": "Python 3 (ipykernel)",
   "language": "python",
   "name": "python3"
  },
  "language_info": {
   "codemirror_mode": {
    "name": "ipython",
    "version": 3
   },
   "file_extension": ".py",
   "mimetype": "text/x-python",
   "name": "python",
   "nbconvert_exporter": "python",
   "pygments_lexer": "ipython3",
   "version": "3.11.3"
  }
 },
 "nbformat": 4,
 "nbformat_minor": 5
}
